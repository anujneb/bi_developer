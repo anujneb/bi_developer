{
 "cells": [
  {
   "cell_type": "code",
   "execution_count": 24,
   "metadata": {},
   "outputs": [],
   "source": [
    "import petl as etl\n",
    "table1 = etl.fromtsv(\"D:\\JOB\\BI_Developer_Challenge\\donedeal_data_sample.tsv\")\n"
   ]
  },
  {
   "cell_type": "code",
   "execution_count": 33,
   "metadata": {},
   "outputs": [],
   "source": [
    "table2 = etl.convert(table1,'mileage',float)\n",
    "table3 = etl.convert(table2,'mileage',lambda v: v*1.60934, where = lambda r: r.mileageType == 'miles' )\n",
    "table4 = etl.convert(table3,'mileageType',lambda v: 'km', where = lambda r: r.mileageType in ('miles','kilometres'))\n",
    "table4 = etl.convert(table3,'mileageType',lambda v: 'NA', where = lambda r: r.mileageType not in ('km'))\n"
   ]
  },
  {
   "cell_type": "code",
   "execution_count": 32,
   "metadata": {},
   "outputs": [],
   "source": [
    "etl.totsv(table4, \"D:\\JOB\\BI_Developer_Challenge\\donedeal_data_etl.tsv\")"
   ]
  }
 ],
 "metadata": {
  "kernelspec": {
   "display_name": "Python 3",
   "language": "python",
   "name": "python3"
  },
  "language_info": {
   "codemirror_mode": {
    "name": "ipython",
    "version": 3
   },
   "file_extension": ".py",
   "mimetype": "text/x-python",
   "name": "python",
   "nbconvert_exporter": "python",
   "pygments_lexer": "ipython3",
   "version": "3.6.4"
  }
 },
 "nbformat": 4,
 "nbformat_minor": 2
}
